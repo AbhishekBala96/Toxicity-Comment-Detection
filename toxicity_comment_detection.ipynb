{
 "cells": [
  {
   "cell_type": "code",
   "execution_count": null,
   "metadata": {
    "_cell_guid": "b1076dfc-b9ad-4769-8c92-a6c4dae69d19",
    "_uuid": "8f2839f25d086af736a60e9eeb907d3b93b6e0e5",
    "execution": {
     "iopub.execute_input": "2025-02-12T18:09:02.161676Z",
     "iopub.status.busy": "2025-02-12T18:09:02.161454Z",
     "iopub.status.idle": "2025-02-12T18:09:26.359357Z",
     "shell.execute_reply": "2025-02-12T18:09:26.358449Z",
     "shell.execute_reply.started": "2025-02-12T18:09:02.161656Z"
    },
    "trusted": true
   },
   "outputs": [],
   "source": [
    "# Import necessary libraries\n",
    "import re\n",
    "import pandas as pd\n",
    "import numpy as np\n",
    "import matplotlib.pyplot as plt\n",
    "%matplotlib inline\n",
    "import seaborn as sns\n",
    "from tqdm import tqdm_notebook\n",
    "import nltk\n",
    "from nltk.corpus import stopwords\n",
    "from tensorflow.keras import regularizers, initializers, optimizers, callbacks\n",
    "from tensorflow.keras.preprocessing.sequence import pad_sequences\n",
    "from tensorflow.keras.preprocessing.text import Tokenizer\n",
    "from tensorflow.keras.layers import *\n",
    "from tensorflow.keras.models import Model\n",
    "from tensorflow.keras.optimizers import Adam\n",
    "from tensorflow.keras.regularizers import l2\n",
    "from tensorflow.keras.callbacks import EarlyStopping, ReduceLROnPlateau\n",
    "from tensorflow.keras import backend as K\n",
    "from tensorflow.keras.metrics import AUC\n",
    "import warnings\n",
    "warnings.filterwarnings('ignore')"
   ]
  },
  {
   "cell_type": "code",
   "execution_count": null,
   "metadata": {
    "execution": {
     "iopub.execute_input": "2025-02-12T18:09:32.270581Z",
     "iopub.status.busy": "2025-02-12T18:09:32.270305Z",
     "iopub.status.idle": "2025-02-12T18:09:32.379727Z",
     "shell.execute_reply": "2025-02-12T18:09:32.378867Z",
     "shell.execute_reply.started": "2025-02-12T18:09:32.270558Z"
    },
    "trusted": true
   },
   "outputs": [
    {
     "name": "stdout",
     "output_type": "stream",
     "text": [
      "[nltk_data] Downloading package stopwords to /usr/share/nltk_data...\n",
      "[nltk_data]   Package stopwords is already up-to-date!\n"
     ]
    }
   ],
   "source": [
    "# Download NLTK stopwords and load them\n",
    "nltk.download('stopwords')\n",
    "stop_words = set(stopwords.words('english'))"
   ]
  },
  {
   "cell_type": "code",
   "execution_count": null,
   "metadata": {
    "execution": {
     "iopub.execute_input": "2025-02-12T18:09:32.733283Z",
     "iopub.status.busy": "2025-02-12T18:09:32.733003Z",
     "iopub.status.idle": "2025-02-12T18:09:36.686188Z",
     "shell.execute_reply": "2025-02-12T18:09:36.685305Z",
     "shell.execute_reply.started": "2025-02-12T18:09:32.733259Z"
    },
    "trusted": true
   },
   "outputs": [
    {
     "data": {
      "text/html": [
       "<div>\n",
       "<style scoped>\n",
       "    .dataframe tbody tr th:only-of-type {\n",
       "        vertical-align: middle;\n",
       "    }\n",
       "\n",
       "    .dataframe tbody tr th {\n",
       "        vertical-align: top;\n",
       "    }\n",
       "\n",
       "    .dataframe thead th {\n",
       "        text-align: right;\n",
       "    }\n",
       "</style>\n",
       "<table border=\"1\" class=\"dataframe\">\n",
       "  <thead>\n",
       "    <tr style=\"text-align: right;\">\n",
       "      <th></th>\n",
       "      <th>id</th>\n",
       "      <th>comment_text</th>\n",
       "      <th>toxic</th>\n",
       "      <th>severe_toxic</th>\n",
       "      <th>obscene</th>\n",
       "      <th>threat</th>\n",
       "      <th>insult</th>\n",
       "      <th>identity_hate</th>\n",
       "    </tr>\n",
       "  </thead>\n",
       "  <tbody>\n",
       "    <tr>\n",
       "      <th>0</th>\n",
       "      <td>0000997932d777bf</td>\n",
       "      <td>Explanation\\nWhy the edits made under my usern...</td>\n",
       "      <td>0</td>\n",
       "      <td>0</td>\n",
       "      <td>0</td>\n",
       "      <td>0</td>\n",
       "      <td>0</td>\n",
       "      <td>0</td>\n",
       "    </tr>\n",
       "    <tr>\n",
       "      <th>1</th>\n",
       "      <td>000103f0d9cfb60f</td>\n",
       "      <td>D'aww! He matches this background colour I'm s...</td>\n",
       "      <td>0</td>\n",
       "      <td>0</td>\n",
       "      <td>0</td>\n",
       "      <td>0</td>\n",
       "      <td>0</td>\n",
       "      <td>0</td>\n",
       "    </tr>\n",
       "    <tr>\n",
       "      <th>2</th>\n",
       "      <td>000113f07ec002fd</td>\n",
       "      <td>Hey man, I'm really not trying to edit war. It...</td>\n",
       "      <td>0</td>\n",
       "      <td>0</td>\n",
       "      <td>0</td>\n",
       "      <td>0</td>\n",
       "      <td>0</td>\n",
       "      <td>0</td>\n",
       "    </tr>\n",
       "    <tr>\n",
       "      <th>3</th>\n",
       "      <td>0001b41b1c6bb37e</td>\n",
       "      <td>\"\\nMore\\nI can't make any real suggestions on ...</td>\n",
       "      <td>0</td>\n",
       "      <td>0</td>\n",
       "      <td>0</td>\n",
       "      <td>0</td>\n",
       "      <td>0</td>\n",
       "      <td>0</td>\n",
       "    </tr>\n",
       "    <tr>\n",
       "      <th>4</th>\n",
       "      <td>0001d958c54c6e35</td>\n",
       "      <td>You, sir, are my hero. Any chance you remember...</td>\n",
       "      <td>0</td>\n",
       "      <td>0</td>\n",
       "      <td>0</td>\n",
       "      <td>0</td>\n",
       "      <td>0</td>\n",
       "      <td>0</td>\n",
       "    </tr>\n",
       "  </tbody>\n",
       "</table>\n",
       "</div>"
      ],
      "text/plain": [
       "                 id                                       comment_text  toxic  \\\n",
       "0  0000997932d777bf  Explanation\\nWhy the edits made under my usern...      0   \n",
       "1  000103f0d9cfb60f  D'aww! He matches this background colour I'm s...      0   \n",
       "2  000113f07ec002fd  Hey man, I'm really not trying to edit war. It...      0   \n",
       "3  0001b41b1c6bb37e  \"\\nMore\\nI can't make any real suggestions on ...      0   \n",
       "4  0001d958c54c6e35  You, sir, are my hero. Any chance you remember...      0   \n",
       "\n",
       "   severe_toxic  obscene  threat  insult  identity_hate  \n",
       "0             0        0       0       0              0  \n",
       "1             0        0       0       0              0  \n",
       "2             0        0       0       0              0  \n",
       "3             0        0       0       0              0  \n",
       "4             0        0       0       0              0  "
      ]
     },
     "execution_count": 3,
     "metadata": {},
     "output_type": "execute_result"
    }
   ],
   "source": [
    "# Load training and test datasets\n",
    "train=pd.read_csv(\"/kaggle/input/jigsaw-toxic-comment-classification-challenge/train.csv\")\n",
    "test=pd.read_csv(\"/kaggle/input/jigsaw-toxic-comment-classification-challenge/test.csv\")\n",
    "train.head()"
   ]
  },
  {
   "cell_type": "code",
   "execution_count": 4,
   "metadata": {
    "execution": {
     "iopub.execute_input": "2025-02-12T18:09:46.163856Z",
     "iopub.status.busy": "2025-02-12T18:09:46.163573Z",
     "iopub.status.idle": "2025-02-12T18:09:46.168806Z",
     "shell.execute_reply": "2025-02-12T18:09:46.167934Z",
     "shell.execute_reply.started": "2025-02-12T18:09:46.163833Z"
    },
    "trusted": true
   },
   "outputs": [
    {
     "data": {
      "text/plain": [
       "(159571, 8)"
      ]
     },
     "execution_count": 4,
     "metadata": {},
     "output_type": "execute_result"
    }
   ],
   "source": [
    "train.shape"
   ]
  },
  {
   "cell_type": "code",
   "execution_count": 5,
   "metadata": {
    "execution": {
     "iopub.execute_input": "2025-02-12T18:09:46.522511Z",
     "iopub.status.busy": "2025-02-12T18:09:46.522267Z",
     "iopub.status.idle": "2025-02-12T18:09:46.624926Z",
     "shell.execute_reply": "2025-02-12T18:09:46.624160Z",
     "shell.execute_reply.started": "2025-02-12T18:09:46.522490Z"
    },
    "trusted": true
   },
   "outputs": [
    {
     "name": "stdout",
     "output_type": "stream",
     "text": [
      "<class 'pandas.core.frame.DataFrame'>\n",
      "RangeIndex: 159571 entries, 0 to 159570\n",
      "Data columns (total 8 columns):\n",
      " #   Column         Non-Null Count   Dtype \n",
      "---  ------         --------------   ----- \n",
      " 0   id             159571 non-null  object\n",
      " 1   comment_text   159571 non-null  object\n",
      " 2   toxic          159571 non-null  int64 \n",
      " 3   severe_toxic   159571 non-null  int64 \n",
      " 4   obscene        159571 non-null  int64 \n",
      " 5   threat         159571 non-null  int64 \n",
      " 6   insult         159571 non-null  int64 \n",
      " 7   identity_hate  159571 non-null  int64 \n",
      "dtypes: int64(6), object(2)\n",
      "memory usage: 9.7+ MB\n"
     ]
    },
    {
     "data": {
      "text/plain": [
       "id               0\n",
       "comment_text     0\n",
       "toxic            0\n",
       "severe_toxic     0\n",
       "obscene          0\n",
       "threat           0\n",
       "insult           0\n",
       "identity_hate    0\n",
       "dtype: int64"
      ]
     },
     "execution_count": 5,
     "metadata": {},
     "output_type": "execute_result"
    }
   ],
   "source": [
    "train.info()\n",
    "train.isnull().sum()"
   ]
  },
  {
   "cell_type": "code",
   "execution_count": 6,
   "metadata": {
    "execution": {
     "iopub.execute_input": "2025-02-12T18:09:47.710638Z",
     "iopub.status.busy": "2025-02-12T18:09:47.710380Z",
     "iopub.status.idle": "2025-02-12T18:09:48.113317Z",
     "shell.execute_reply": "2025-02-12T18:09:48.112386Z",
     "shell.execute_reply.started": "2025-02-12T18:09:47.710618Z"
    },
    "trusted": true
   },
   "outputs": [
    {
     "name": "stdout",
     "output_type": "stream",
     "text": [
      "toxic            15294\n",
      "severe_toxic      1595\n",
      "obscene           8449\n",
      "threat             478\n",
      "insult            7877\n",
      "identity_hate     1405\n",
      "dtype: int64\n"
     ]
    },
    {
     "data": {
      "image/png": "[encoded data removed]",
      "text/plain": [
       "<Figure size 1000x600 with 1 Axes>"
      ]
     },
     "metadata": {},
     "output_type": "display_data"
    }
   ],
   "source": [
    "label_cols=['toxic','severe_toxic','obscene','threat','insult','identity_hate']\n",
    "print(train[label_cols].sum())\n",
    "\n",
    "plt.figure(figsize=(10,6))\n",
    "train[label_cols].sum().sort_values(ascending=False).plot(kind='bar')\n",
    "plt.title(\"Label Distribution\")\n",
    "plt.xlabel(\"Label\")\n",
    "plt.ylabel(\"Numner of Comments\")\n",
    "plt.show()"
   ]
  },
  {
   "cell_type": "code",
   "execution_count": 7,
   "metadata": {
    "execution": {
     "iopub.execute_input": "2025-02-12T18:09:54.349766Z",
     "iopub.status.busy": "2025-02-12T18:09:54.349483Z",
     "iopub.status.idle": "2025-02-12T18:09:54.353828Z",
     "shell.execute_reply": "2025-02-12T18:09:54.352895Z",
     "shell.execute_reply.started": "2025-02-12T18:09:54.349743Z"
    },
    "trusted": true
   },
   "outputs": [],
   "source": [
    "MAX_NUM_WORDS = 100000\n",
    "MAX_SEQUENCE_LENGTH = 200\n",
    "VALIDATION_SPLIT = 0.2\n",
    "EMBEDDING_DIM = 100\n",
    "GLOVE_DIR = \"/kaggle/input/glove6b100dtxt/glove.6B.100d.txt\""
   ]
  },
  {
   "cell_type": "code",
   "execution_count": 8,
   "metadata": {
    "execution": {
     "iopub.execute_input": "2025-02-12T18:09:54.639510Z",
     "iopub.status.busy": "2025-02-12T18:09:54.639298Z",
     "iopub.status.idle": "2025-02-12T18:09:54.642833Z",
     "shell.execute_reply": "2025-02-12T18:09:54.642221Z",
     "shell.execute_reply.started": "2025-02-12T18:09:54.639491Z"
    },
    "trusted": true
   },
   "outputs": [],
   "source": [
    "comment_train=train[\"comment_text\"]\n",
    "comment_test=test[\"comment_text\"]"
   ]
  },
  {
   "cell_type": "code",
   "execution_count": 9,
   "metadata": {
    "execution": {
     "iopub.execute_input": "2025-02-12T18:09:54.972294Z",
     "iopub.status.busy": "2025-02-12T18:09:54.972042Z",
     "iopub.status.idle": "2025-02-12T18:09:55.002497Z",
     "shell.execute_reply": "2025-02-12T18:09:55.001861Z",
     "shell.execute_reply.started": "2025-02-12T18:09:54.972272Z"
    },
    "trusted": true
   },
   "outputs": [],
   "source": [
    "comment_train=list(comment_train)"
   ]
  },
  {
   "cell_type": "code",
   "execution_count": null,
   "metadata": {
    "execution": {
     "iopub.execute_input": "2025-02-12T18:09:57.974023Z",
     "iopub.status.busy": "2025-02-12T18:09:57.973674Z",
     "iopub.status.idle": "2025-02-12T18:09:57.978595Z",
     "shell.execute_reply": "2025-02-12T18:09:57.977737Z",
     "shell.execute_reply.started": "2025-02-12T18:09:57.973994Z"
    },
    "trusted": true
   },
   "outputs": [],
   "source": [
    "#Clean text data\n",
    "def clean_text(text, remove_stopwords=True):\n",
    "    text = str(text).replace('\\n', '')\n",
    "\n",
    "    text = re.sub(r'[^\\w\\s]','',text).lower()\n",
    "\n",
    "    #remove stopwords\n",
    "    if remove_stopwords:\n",
    "        text = text.split()\n",
    "        text = ' '.join(word for word in text if word not in stop_words)\n",
    "        \n",
    "    return str(text.strip()).replace(\"  \", \" \")"
   ]
  },
  {
   "cell_type": "code",
   "execution_count": 11,
   "metadata": {
    "execution": {
     "iopub.execute_input": "2025-02-12T18:10:00.319739Z",
     "iopub.status.busy": "2025-02-12T18:10:00.319425Z",
     "iopub.status.idle": "2025-02-12T18:10:04.047825Z",
     "shell.execute_reply": "2025-02-12T18:10:04.046905Z",
     "shell.execute_reply.started": "2025-02-12T18:10:00.319713Z"
    },
    "trusted": true
   },
   "outputs": [
    {
     "data": {
      "application/vnd.jupyter.widget-view+json": {
       "model_id": "d4cdd5836d2445cbac0d993aa732794d",
       "version_major": 2,
       "version_minor": 0
      },
      "text/plain": [
       "  0%|          | 0/159571 [00:00<?, ?it/s]"
      ]
     },
     "metadata": {},
     "output_type": "display_data"
    }
   ],
   "source": [
    "texts = []\n",
    "for line in tqdm_notebook(comment_train, total=len(comment_train)):\n",
    "    texts.append(clean_text(line))"
   ]
  },
  {
   "cell_type": "code",
   "execution_count": null,
   "metadata": {
    "execution": {
     "iopub.execute_input": "2025-02-12T18:10:04.049223Z",
     "iopub.status.busy": "2025-02-12T18:10:04.048896Z",
     "iopub.status.idle": "2025-02-12T18:10:09.264749Z",
     "shell.execute_reply": "2025-02-12T18:10:09.263754Z",
     "shell.execute_reply.started": "2025-02-12T18:10:04.049199Z"
    },
    "trusted": true
   },
   "outputs": [],
   "source": [
    "#tokenize the text data\n",
    "tokenizer = Tokenizer(num_words = MAX_NUM_WORDS)\n",
    "tokenizer.fit_on_texts(texts)"
   ]
  },
  {
   "cell_type": "code",
   "execution_count": null,
   "metadata": {
    "execution": {
     "iopub.execute_input": "2025-02-12T18:10:09.266478Z",
     "iopub.status.busy": "2025-02-12T18:10:09.266111Z",
     "iopub.status.idle": "2025-02-12T18:10:12.846919Z",
     "shell.execute_reply": "2025-02-12T18:10:12.846218Z",
     "shell.execute_reply.started": "2025-02-12T18:10:09.266443Z"
    },
    "trusted": true
   },
   "outputs": [
    {
     "name": "stdout",
     "output_type": "stream",
     "text": [
      "Vocabulary Size: 305375\n"
     ]
    }
   ],
   "source": [
    "sequences = tokenizer.texts_to_sequences(texts)\n",
    "word_index = tokenizer.word_index\n",
    "print(\"Vocabulary Size:\", len(word_index))"
   ]
  },
  {
   "cell_type": "code",
   "execution_count": null,
   "metadata": {
    "execution": {
     "iopub.execute_input": "2025-02-12T18:10:15.408742Z",
     "iopub.status.busy": "2025-02-12T18:10:15.408461Z",
     "iopub.status.idle": "2025-02-12T18:10:16.009791Z",
     "shell.execute_reply": "2025-02-12T18:10:16.008901Z",
     "shell.execute_reply.started": "2025-02-12T18:10:15.408720Z"
    },
    "trusted": true
   },
   "outputs": [
    {
     "name": "stdout",
     "output_type": "stream",
     "text": [
      "Shape of Data Tensor: (159571, 200)\n",
      "Shape of Label Tensor: (159571, 6)\n"
     ]
    }
   ],
   "source": [
    "#pad sequence\n",
    "data = pad_sequences(sequences, padding=\"post\", maxlen=MAX_SEQUENCE_LENGTH)\n",
    "print(\"Shape of Data Tensor:\", data.shape)\n",
    "\n",
    "y=train[label_cols].values\n",
    "print(\"Shape of Label Tensor:\", y.shape)"
   ]
  },
  {
   "cell_type": "code",
   "execution_count": 15,
   "metadata": {
    "execution": {
     "iopub.execute_input": "2025-02-12T18:10:16.011220Z",
     "iopub.status.busy": "2025-02-12T18:10:16.010946Z",
     "iopub.status.idle": "2025-02-12T18:10:16.085221Z",
     "shell.execute_reply": "2025-02-12T18:10:16.084273Z",
     "shell.execute_reply.started": "2025-02-12T18:10:16.011198Z"
    },
    "trusted": true
   },
   "outputs": [],
   "source": [
    "indices = np.arange(data.shape[0])\n",
    "np.random.shuffle(indices)\n",
    "data = data[indices]\n",
    "label = y[indices]"
   ]
  },
  {
   "cell_type": "code",
   "execution_count": null,
   "metadata": {
    "execution": {
     "iopub.execute_input": "2025-02-12T18:10:16.087003Z",
     "iopub.status.busy": "2025-02-12T18:10:16.086752Z",
     "iopub.status.idle": "2025-02-12T18:10:16.090685Z",
     "shell.execute_reply": "2025-02-12T18:10:16.089990Z",
     "shell.execute_reply.started": "2025-02-12T18:10:16.086981Z"
    },
    "trusted": true
   },
   "outputs": [],
   "source": [
    "#split data into training and validation sets\n",
    "num_validation_sample = int(VALIDATION_SPLIT*data.shape[0])\n",
    "x_train = data[: -num_validation_sample]\n",
    "y_train = label[: -num_validation_sample]\n",
    "x_val = data[-num_validation_sample:]\n",
    "y_val = label[-num_validation_sample:]"
   ]
  },
  {
   "cell_type": "code",
   "execution_count": 17,
   "metadata": {
    "execution": {
     "iopub.execute_input": "2025-02-12T18:10:19.733015Z",
     "iopub.status.busy": "2025-02-12T18:10:19.732639Z",
     "iopub.status.idle": "2025-02-12T18:10:19.743606Z",
     "shell.execute_reply": "2025-02-12T18:10:19.742785Z",
     "shell.execute_reply.started": "2025-02-12T18:10:19.732971Z"
    },
    "trusted": true
   },
   "outputs": [
    {
     "name": "stdout",
     "output_type": "stream",
     "text": [
      "Training [12316  1274  6801   386  6353  1130]\n",
      "Validation [2978  321 1648   92 1524  275]\n"
     ]
    }
   ],
   "source": [
    "print(\"Training\", y_train.sum(axis=0))\n",
    "print(\"Validation\", y_val.sum(axis=0))"
   ]
  },
  {
   "cell_type": "code",
   "execution_count": 18,
   "metadata": {
    "execution": {
     "iopub.execute_input": "2025-02-12T18:10:19.997317Z",
     "iopub.status.busy": "2025-02-12T18:10:19.997091Z",
     "iopub.status.idle": "2025-02-12T18:10:20.002647Z",
     "shell.execute_reply": "2025-02-12T18:10:20.001995Z",
     "shell.execute_reply.started": "2025-02-12T18:10:19.997299Z"
    },
    "trusted": true
   },
   "outputs": [
    {
     "name": "stdout",
     "output_type": "stream",
     "text": [
      "Tokenized Sentences: [   14 58129   172   848  8103   841  4830   217     9   109    39  2391\n",
      " 25946   514     0     0     0     0     0     0     0     0     0     0\n",
      "     0     0     0     0     0     0     0     0     0     0     0     0\n",
      "     0     0     0     0     0     0     0     0     0     0     0     0\n",
      "     0     0     0     0     0     0     0     0     0     0     0     0\n",
      "     0     0     0     0     0     0     0     0     0     0     0     0\n",
      "     0     0     0     0     0     0     0     0     0     0     0     0\n",
      "     0     0     0     0     0     0     0     0     0     0     0     0\n",
      "     0     0     0     0     0     0     0     0     0     0     0     0\n",
      "     0     0     0     0     0     0     0     0     0     0     0     0\n",
      "     0     0     0     0     0     0     0     0     0     0     0     0\n",
      "     0     0     0     0     0     0     0     0     0     0     0     0\n",
      "     0     0     0     0     0     0     0     0     0     0     0     0\n",
      "     0     0     0     0     0     0     0     0     0     0     0     0\n",
      "     0     0     0     0     0     0     0     0     0     0     0     0\n",
      "     0     0     0     0     0     0     0     0     0     0     0     0\n",
      "     0     0     0     0     0     0     0     0]\n",
      "One_Hot_Labes: [0 0 0 0 0 0]\n"
     ]
    }
   ],
   "source": [
    "print('Tokenized Sentences:', data[10])\n",
    "print(\"One_Hot_Labes:\", label[10])"
   ]
  },
  {
   "cell_type": "code",
   "execution_count": null,
   "metadata": {
    "execution": {
     "iopub.execute_input": "2025-02-12T18:10:20.239278Z",
     "iopub.status.busy": "2025-02-12T18:10:20.239026Z",
     "iopub.status.idle": "2025-02-12T18:10:31.022594Z",
     "shell.execute_reply": "2025-02-12T18:10:31.021863Z",
     "shell.execute_reply.started": "2025-02-12T18:10:20.239257Z"
    },
    "trusted": true
   },
   "outputs": [
    {
     "name": "stdout",
     "output_type": "stream",
     "text": [
      "Proceding with Embedded Matrix\n",
      "Completed\n"
     ]
    }
   ],
   "source": [
    "#embedding with GloVe\n",
    "embedding_index = {}\n",
    "\n",
    "with open(GLOVE_DIR, 'r', encoding='utf-8') as f:\n",
    "    for line in f:\n",
    "        values = line.split()\n",
    "        word = values[0]\n",
    "        embedding_index[word] = np.asarray(values[1:], dtype='float32')\n",
    "\n",
    "print(\"Proceding with Embedded Matrix\", end = '')\n",
    "embedding_matrix = np.zeros((len(word_index)+1, EMBEDDING_DIM))\n",
    "\n",
    "for word, i in word_index.items():\n",
    "    embedding_vector = embedding_index.get(word)\n",
    "    if embedding_vector is not None:\n",
    "        embedding_matrix[i] = embedding_vector\n",
    "print(\"\\nCompleted\")\n",
    "    "
   ]
  },
  {
   "cell_type": "code",
   "execution_count": null,
   "metadata": {
    "execution": {
     "iopub.execute_input": "2025-02-12T18:10:46.452452Z",
     "iopub.status.busy": "2025-02-12T18:10:46.452115Z",
     "iopub.status.idle": "2025-02-12T18:10:46.456741Z",
     "shell.execute_reply": "2025-02-12T18:10:46.456065Z",
     "shell.execute_reply.started": "2025-02-12T18:10:46.452428Z"
    },
    "trusted": true
   },
   "outputs": [],
   "source": [
    "#focal loss function to handle class imbalance\n",
    "def focal_loss(gamma=2., alpha=0.25):\n",
    "    def focal_loss_fixed(y_true, y_pred):\n",
    "        y_pred = K.clip(y_pred, 1e-9, 1. -1e-9)\n",
    "        loss = -y_true * alpha * K.pow(1-y_pred, gamma) * K.log(y_pred)\\\n",
    "                -(1-y_true) * (1-alpha) * K.pow(y_pred, gamma) * K.log(1-y_pred)\n",
    "        return K.mean(loss)\n",
    "    return focal_loss_fixed"
   ]
  },
  {
   "cell_type": "code",
   "execution_count": null,
   "metadata": {
    "execution": {
     "iopub.execute_input": "2025-02-12T18:18:55.290909Z",
     "iopub.status.busy": "2025-02-12T18:18:55.290609Z",
     "iopub.status.idle": "2025-02-12T18:18:55.306274Z",
     "shell.execute_reply": "2025-02-12T18:18:55.305538Z",
     "shell.execute_reply.started": "2025-02-12T18:18:55.290888Z"
    },
    "trusted": true
   },
   "outputs": [],
   "source": [
    "#sample weights to handle class imbalance\n",
    "max_weight=10\n",
    "smoothing_factor=0.1\n",
    "scaling_exponent=1.5\n",
    "\n",
    "sample_weights = np.ones(len(y_train))\n",
    "\n",
    "for i, col in enumerate(label_cols):\n",
    "    neg, pos = np.bincount(y_train[:, i])\n",
    "    total = neg + pos\n",
    "\n",
    "    pos_weight = (neg/(pos+smoothing_factor))\n",
    "    pos_weight=min(pos_weight, max_weight)\n",
    "\n",
    "    pos_weight = np.power(pos_weight, scaling_exponent)\n",
    "    sample_weights[y_train[:,i]==1]*=pos_weight\n",
    "\n",
    "sample_weights /= np.mean(sample_weights)"
   ]
  },
  {
   "cell_type": "code",
   "execution_count": null,
   "metadata": {
    "execution": {
     "iopub.execute_input": "2025-02-12T18:19:02.171518Z",
     "iopub.status.busy": "2025-02-12T18:19:02.171032Z",
     "iopub.status.idle": "2025-02-12T18:19:02.453778Z",
     "shell.execute_reply": "2025-02-12T18:19:02.453087Z",
     "shell.execute_reply.started": "2025-02-12T18:19:02.171477Z"
    },
    "trusted": true
   },
   "outputs": [],
   "source": [
    "#define the model architecture\n",
    "sequence_input = Input(shape = (MAX_SEQUENCE_LENGTH,), dtype = 'int32')\n",
    "\n",
    "embedding_layers = Embedding(len(word_index)+1, EMBEDDING_DIM, \n",
    "                             weights = [embedding_matrix], \n",
    "                             trainable = True,\n",
    "                             name = 'embeddings')(sequence_input)"
   ]
  },
  {
   "cell_type": "code",
   "execution_count": null,
   "metadata": {
    "execution": {
     "iopub.execute_input": "2025-02-12T18:19:05.157229Z",
     "iopub.status.busy": "2025-02-12T18:19:05.156890Z",
     "iopub.status.idle": "2025-02-12T18:19:05.286202Z",
     "shell.execute_reply": "2025-02-12T18:19:05.285538Z",
     "shell.execute_reply.started": "2025-02-12T18:19:05.157204Z"
    },
    "trusted": true
   },
   "outputs": [],
   "source": [
    "#CNN layers\n",
    "conv_blocks = []\n",
    "for kernel_size in [3, 4, 5]:\n",
    "    conv = Conv1D(128, kernel_size, activation='relu', padding='same', kernel_regularizer=l2(0.01))(embedding_layers)\n",
    "    pool = GlobalMaxPooling1D()(conv)\n",
    "    conv_blocks.append(pool)\n",
    "\n",
    "x = Concatenate()(conv_blocks)\n",
    "\n",
    "x = Reshape((-1, 128))(x)\n",
    "\n",
    "#LSTM layers\n",
    "x = Bidirectional(LSTM(64, return_sequences=True))(x)\n",
    "x = Bidirectional(LSTM(32))(x)\n",
    "\n",
    "x = Dense(128, activation='relu', kernel_regularizer=l2(0.01))(x)\n",
    "x = BatchNormalization()(x)\n",
    "x = Dropout(0.5)(x)\n",
    "x = Dense(64, activation = 'relu', kernel_regularizer=l2(0.01))(x)\n",
    "x = BatchNormalization()(x)\n",
    "x = Dropout(0.5)(x)\n",
    "\n",
    "preds = Dense(6, activation = 'sigmoid')(x)"
   ]
  },
  {
   "cell_type": "code",
   "execution_count": 30,
   "metadata": {
    "execution": {
     "iopub.execute_input": "2025-02-12T18:19:11.128122Z",
     "iopub.status.busy": "2025-02-12T18:19:11.127810Z",
     "iopub.status.idle": "2025-02-12T18:19:11.170523Z",
     "shell.execute_reply": "2025-02-12T18:19:11.169812Z",
     "shell.execute_reply.started": "2025-02-12T18:19:11.128096Z"
    },
    "trusted": true
   },
   "outputs": [
    {
     "data": {
      "text/html": [
       "<pre style=\"white-space:pre;overflow-x:auto;line-height:normal;font-family:Menlo,'DejaVu Sans Mono',consolas,'Courier New',monospace\"><span style=\"font-weight: bold\">Model: \"functional_1\"</span>\n",
       "</pre>\n"
      ],
      "text/plain": [
       "\u001b[1mModel: \"functional_1\"\u001b[0m\n"
      ]
     },
     "metadata": {},
     "output_type": "display_data"
    },
    {
     "data": {
      "text/html": [
       "<pre style=\"white-space:pre;overflow-x:auto;line-height:normal;font-family:Menlo,'DejaVu Sans Mono',consolas,'Courier New',monospace\">┏━━━━━━━━━━━━━━━━━━━━━━━━━━━┳━━━━━━━━━━━━━━━━━━━━━━━━┳━━━━━━━━━━━━━━━━┳━━━━━━━━━━━━━━━━━━━━━━━━┓\n",
       "┃<span style=\"font-weight: bold\"> Layer (type)              </span>┃<span style=\"font-weight: bold\"> Output Shape           </span>┃<span style=\"font-weight: bold\">        Param # </span>┃<span style=\"font-weight: bold\"> Connected to           </span>┃\n",
       "┡━━━━━━━━━━━━━━━━━━━━━━━━━━━╇━━━━━━━━━━━━━━━━━━━━━━━━╇━━━━━━━━━━━━━━━━╇━━━━━━━━━━━━━━━━━━━━━━━━┩\n",
       "│ input_layer_1             │ (<span style=\"color: #00d7ff; text-decoration-color: #00d7ff\">None</span>, <span style=\"color: #00af00; text-decoration-color: #00af00\">200</span>)            │              <span style=\"color: #00af00; text-decoration-color: #00af00\">0</span> │ -                      │\n",
       "│ (<span style=\"color: #0087ff; text-decoration-color: #0087ff\">InputLayer</span>)              │                        │                │                        │\n",
       "├───────────────────────────┼────────────────────────┼────────────────┼────────────────────────┤\n",
       "│ embeddings (<span style=\"color: #0087ff; text-decoration-color: #0087ff\">Embedding</span>)    │ (<span style=\"color: #00d7ff; text-decoration-color: #00d7ff\">None</span>, <span style=\"color: #00af00; text-decoration-color: #00af00\">200</span>, <span style=\"color: #00af00; text-decoration-color: #00af00\">100</span>)       │     <span style=\"color: #00af00; text-decoration-color: #00af00\">30,537,600</span> │ input_layer_1[<span style=\"color: #00af00; text-decoration-color: #00af00\">0</span>][<span style=\"color: #00af00; text-decoration-color: #00af00\">0</span>]    │\n",
       "├───────────────────────────┼────────────────────────┼────────────────┼────────────────────────┤\n",
       "│ conv1d_3 (<span style=\"color: #0087ff; text-decoration-color: #0087ff\">Conv1D</span>)         │ (<span style=\"color: #00d7ff; text-decoration-color: #00d7ff\">None</span>, <span style=\"color: #00af00; text-decoration-color: #00af00\">200</span>, <span style=\"color: #00af00; text-decoration-color: #00af00\">128</span>)       │         <span style=\"color: #00af00; text-decoration-color: #00af00\">38,528</span> │ embeddings[<span style=\"color: #00af00; text-decoration-color: #00af00\">0</span>][<span style=\"color: #00af00; text-decoration-color: #00af00\">0</span>]       │\n",
       "├───────────────────────────┼────────────────────────┼────────────────┼────────────────────────┤\n",
       "│ conv1d_4 (<span style=\"color: #0087ff; text-decoration-color: #0087ff\">Conv1D</span>)         │ (<span style=\"color: #00d7ff; text-decoration-color: #00d7ff\">None</span>, <span style=\"color: #00af00; text-decoration-color: #00af00\">200</span>, <span style=\"color: #00af00; text-decoration-color: #00af00\">128</span>)       │         <span style=\"color: #00af00; text-decoration-color: #00af00\">51,328</span> │ embeddings[<span style=\"color: #00af00; text-decoration-color: #00af00\">0</span>][<span style=\"color: #00af00; text-decoration-color: #00af00\">0</span>]       │\n",
       "├───────────────────────────┼────────────────────────┼────────────────┼────────────────────────┤\n",
       "│ conv1d_5 (<span style=\"color: #0087ff; text-decoration-color: #0087ff\">Conv1D</span>)         │ (<span style=\"color: #00d7ff; text-decoration-color: #00d7ff\">None</span>, <span style=\"color: #00af00; text-decoration-color: #00af00\">200</span>, <span style=\"color: #00af00; text-decoration-color: #00af00\">128</span>)       │         <span style=\"color: #00af00; text-decoration-color: #00af00\">64,128</span> │ embeddings[<span style=\"color: #00af00; text-decoration-color: #00af00\">0</span>][<span style=\"color: #00af00; text-decoration-color: #00af00\">0</span>]       │\n",
       "├───────────────────────────┼────────────────────────┼────────────────┼────────────────────────┤\n",
       "│ global_max_pooling1d_3    │ (<span style=\"color: #00d7ff; text-decoration-color: #00d7ff\">None</span>, <span style=\"color: #00af00; text-decoration-color: #00af00\">128</span>)            │              <span style=\"color: #00af00; text-decoration-color: #00af00\">0</span> │ conv1d_3[<span style=\"color: #00af00; text-decoration-color: #00af00\">0</span>][<span style=\"color: #00af00; text-decoration-color: #00af00\">0</span>]         │\n",
       "│ (<span style=\"color: #0087ff; text-decoration-color: #0087ff\">GlobalMaxPooling1D</span>)      │                        │                │                        │\n",
       "├───────────────────────────┼────────────────────────┼────────────────┼────────────────────────┤\n",
       "│ global_max_pooling1d_4    │ (<span style=\"color: #00d7ff; text-decoration-color: #00d7ff\">None</span>, <span style=\"color: #00af00; text-decoration-color: #00af00\">128</span>)            │              <span style=\"color: #00af00; text-decoration-color: #00af00\">0</span> │ conv1d_4[<span style=\"color: #00af00; text-decoration-color: #00af00\">0</span>][<span style=\"color: #00af00; text-decoration-color: #00af00\">0</span>]         │\n",
       "│ (<span style=\"color: #0087ff; text-decoration-color: #0087ff\">GlobalMaxPooling1D</span>)      │                        │                │                        │\n",
       "├───────────────────────────┼────────────────────────┼────────────────┼────────────────────────┤\n",
       "│ global_max_pooling1d_5    │ (<span style=\"color: #00d7ff; text-decoration-color: #00d7ff\">None</span>, <span style=\"color: #00af00; text-decoration-color: #00af00\">128</span>)            │              <span style=\"color: #00af00; text-decoration-color: #00af00\">0</span> │ conv1d_5[<span style=\"color: #00af00; text-decoration-color: #00af00\">0</span>][<span style=\"color: #00af00; text-decoration-color: #00af00\">0</span>]         │\n",
       "│ (<span style=\"color: #0087ff; text-decoration-color: #0087ff\">GlobalMaxPooling1D</span>)      │                        │                │                        │\n",
       "├───────────────────────────┼────────────────────────┼────────────────┼────────────────────────┤\n",
       "│ concatenate_1             │ (<span style=\"color: #00d7ff; text-decoration-color: #00d7ff\">None</span>, <span style=\"color: #00af00; text-decoration-color: #00af00\">384</span>)            │              <span style=\"color: #00af00; text-decoration-color: #00af00\">0</span> │ global_max_pooling1d_… │\n",
       "│ (<span style=\"color: #0087ff; text-decoration-color: #0087ff\">Concatenate</span>)             │                        │                │ global_max_pooling1d_… │\n",
       "│                           │                        │                │ global_max_pooling1d_… │\n",
       "├───────────────────────────┼────────────────────────┼────────────────┼────────────────────────┤\n",
       "│ reshape_1 (<span style=\"color: #0087ff; text-decoration-color: #0087ff\">Reshape</span>)       │ (<span style=\"color: #00d7ff; text-decoration-color: #00d7ff\">None</span>, <span style=\"color: #00af00; text-decoration-color: #00af00\">3</span>, <span style=\"color: #00af00; text-decoration-color: #00af00\">128</span>)         │              <span style=\"color: #00af00; text-decoration-color: #00af00\">0</span> │ concatenate_1[<span style=\"color: #00af00; text-decoration-color: #00af00\">0</span>][<span style=\"color: #00af00; text-decoration-color: #00af00\">0</span>]    │\n",
       "├───────────────────────────┼────────────────────────┼────────────────┼────────────────────────┤\n",
       "│ bidirectional_2           │ (<span style=\"color: #00d7ff; text-decoration-color: #00d7ff\">None</span>, <span style=\"color: #00af00; text-decoration-color: #00af00\">3</span>, <span style=\"color: #00af00; text-decoration-color: #00af00\">128</span>)         │         <span style=\"color: #00af00; text-decoration-color: #00af00\">98,816</span> │ reshape_1[<span style=\"color: #00af00; text-decoration-color: #00af00\">0</span>][<span style=\"color: #00af00; text-decoration-color: #00af00\">0</span>]        │\n",
       "│ (<span style=\"color: #0087ff; text-decoration-color: #0087ff\">Bidirectional</span>)           │                        │                │                        │\n",
       "├───────────────────────────┼────────────────────────┼────────────────┼────────────────────────┤\n",
       "│ bidirectional_3           │ (<span style=\"color: #00d7ff; text-decoration-color: #00d7ff\">None</span>, <span style=\"color: #00af00; text-decoration-color: #00af00\">64</span>)             │         <span style=\"color: #00af00; text-decoration-color: #00af00\">41,216</span> │ bidirectional_2[<span style=\"color: #00af00; text-decoration-color: #00af00\">0</span>][<span style=\"color: #00af00; text-decoration-color: #00af00\">0</span>]  │\n",
       "│ (<span style=\"color: #0087ff; text-decoration-color: #0087ff\">Bidirectional</span>)           │                        │                │                        │\n",
       "├───────────────────────────┼────────────────────────┼────────────────┼────────────────────────┤\n",
       "│ dense_3 (<span style=\"color: #0087ff; text-decoration-color: #0087ff\">Dense</span>)           │ (<span style=\"color: #00d7ff; text-decoration-color: #00d7ff\">None</span>, <span style=\"color: #00af00; text-decoration-color: #00af00\">128</span>)            │          <span style=\"color: #00af00; text-decoration-color: #00af00\">8,320</span> │ bidirectional_3[<span style=\"color: #00af00; text-decoration-color: #00af00\">0</span>][<span style=\"color: #00af00; text-decoration-color: #00af00\">0</span>]  │\n",
       "├───────────────────────────┼────────────────────────┼────────────────┼────────────────────────┤\n",
       "│ batch_normalization_2     │ (<span style=\"color: #00d7ff; text-decoration-color: #00d7ff\">None</span>, <span style=\"color: #00af00; text-decoration-color: #00af00\">128</span>)            │            <span style=\"color: #00af00; text-decoration-color: #00af00\">512</span> │ dense_3[<span style=\"color: #00af00; text-decoration-color: #00af00\">0</span>][<span style=\"color: #00af00; text-decoration-color: #00af00\">0</span>]          │\n",
       "│ (<span style=\"color: #0087ff; text-decoration-color: #0087ff\">BatchNormalization</span>)      │                        │                │                        │\n",
       "├───────────────────────────┼────────────────────────┼────────────────┼────────────────────────┤\n",
       "│ dropout_2 (<span style=\"color: #0087ff; text-decoration-color: #0087ff\">Dropout</span>)       │ (<span style=\"color: #00d7ff; text-decoration-color: #00d7ff\">None</span>, <span style=\"color: #00af00; text-decoration-color: #00af00\">128</span>)            │              <span style=\"color: #00af00; text-decoration-color: #00af00\">0</span> │ batch_normalization_2… │\n",
       "├───────────────────────────┼────────────────────────┼────────────────┼────────────────────────┤\n",
       "│ dense_4 (<span style=\"color: #0087ff; text-decoration-color: #0087ff\">Dense</span>)           │ (<span style=\"color: #00d7ff; text-decoration-color: #00d7ff\">None</span>, <span style=\"color: #00af00; text-decoration-color: #00af00\">64</span>)             │          <span style=\"color: #00af00; text-decoration-color: #00af00\">8,256</span> │ dropout_2[<span style=\"color: #00af00; text-decoration-color: #00af00\">0</span>][<span style=\"color: #00af00; text-decoration-color: #00af00\">0</span>]        │\n",
       "├───────────────────────────┼────────────────────────┼────────────────┼────────────────────────┤\n",
       "│ batch_normalization_3     │ (<span style=\"color: #00d7ff; text-decoration-color: #00d7ff\">None</span>, <span style=\"color: #00af00; text-decoration-color: #00af00\">64</span>)             │            <span style=\"color: #00af00; text-decoration-color: #00af00\">256</span> │ dense_4[<span style=\"color: #00af00; text-decoration-color: #00af00\">0</span>][<span style=\"color: #00af00; text-decoration-color: #00af00\">0</span>]          │\n",
       "│ (<span style=\"color: #0087ff; text-decoration-color: #0087ff\">BatchNormalization</span>)      │                        │                │                        │\n",
       "├───────────────────────────┼────────────────────────┼────────────────┼────────────────────────┤\n",
       "│ dropout_3 (<span style=\"color: #0087ff; text-decoration-color: #0087ff\">Dropout</span>)       │ (<span style=\"color: #00d7ff; text-decoration-color: #00d7ff\">None</span>, <span style=\"color: #00af00; text-decoration-color: #00af00\">64</span>)             │              <span style=\"color: #00af00; text-decoration-color: #00af00\">0</span> │ batch_normalization_3… │\n",
       "├───────────────────────────┼────────────────────────┼────────────────┼────────────────────────┤\n",
       "│ dense_5 (<span style=\"color: #0087ff; text-decoration-color: #0087ff\">Dense</span>)           │ (<span style=\"color: #00d7ff; text-decoration-color: #00d7ff\">None</span>, <span style=\"color: #00af00; text-decoration-color: #00af00\">6</span>)              │            <span style=\"color: #00af00; text-decoration-color: #00af00\">390</span> │ dropout_3[<span style=\"color: #00af00; text-decoration-color: #00af00\">0</span>][<span style=\"color: #00af00; text-decoration-color: #00af00\">0</span>]        │\n",
       "└───────────────────────────┴────────────────────────┴────────────────┴────────────────────────┘\n",
       "</pre>\n"
      ],
      "text/plain": [
       "┏━━━━━━━━━━━━━━━━━━━━━━━━━━━┳━━━━━━━━━━━━━━━━━━━━━━━━┳━━━━━━━━━━━━━━━━┳━━━━━━━━━━━━━━━━━━━━━━━━┓\n",
       "┃\u001b[1m \u001b[0m\u001b[1mLayer (type)             \u001b[0m\u001b[1m \u001b[0m┃\u001b[1m \u001b[0m\u001b[1mOutput Shape          \u001b[0m\u001b[1m \u001b[0m┃\u001b[1m \u001b[0m\u001b[1m       Param #\u001b[0m\u001b[1m \u001b[0m┃\u001b[1m \u001b[0m\u001b[1mConnected to          \u001b[0m\u001b[1m \u001b[0m┃\n",
       "┡━━━━━━━━━━━━━━━━━━━━━━━━━━━╇━━━━━━━━━━━━━━━━━━━━━━━━╇━━━━━━━━━━━━━━━━╇━━━━━━━━━━━━━━━━━━━━━━━━┩\n",
       "│ input_layer_1             │ (\u001b[38;5;45mNone\u001b[0m, \u001b[38;5;34m200\u001b[0m)            │              \u001b[38;5;34m0\u001b[0m │ -                      │\n",
       "│ (\u001b[38;5;33mInputLayer\u001b[0m)              │                        │                │                        │\n",
       "├───────────────────────────┼────────────────────────┼────────────────┼────────────────────────┤\n",
       "│ embeddings (\u001b[38;5;33mEmbedding\u001b[0m)    │ (\u001b[38;5;45mNone\u001b[0m, \u001b[38;5;34m200\u001b[0m, \u001b[38;5;34m100\u001b[0m)       │     \u001b[38;5;34m30,537,600\u001b[0m │ input_layer_1[\u001b[38;5;34m0\u001b[0m][\u001b[38;5;34m0\u001b[0m]    │\n",
       "├───────────────────────────┼────────────────────────┼────────────────┼────────────────────────┤\n",
       "│ conv1d_3 (\u001b[38;5;33mConv1D\u001b[0m)         │ (\u001b[38;5;45mNone\u001b[0m, \u001b[38;5;34m200\u001b[0m, \u001b[38;5;34m128\u001b[0m)       │         \u001b[38;5;34m38,528\u001b[0m │ embeddings[\u001b[38;5;34m0\u001b[0m][\u001b[38;5;34m0\u001b[0m]       │\n",
       "├───────────────────────────┼────────────────────────┼────────────────┼────────────────────────┤\n",
       "│ conv1d_4 (\u001b[38;5;33mConv1D\u001b[0m)         │ (\u001b[38;5;45mNone\u001b[0m, \u001b[38;5;34m200\u001b[0m, \u001b[38;5;34m128\u001b[0m)       │         \u001b[38;5;34m51,328\u001b[0m │ embeddings[\u001b[38;5;34m0\u001b[0m][\u001b[38;5;34m0\u001b[0m]       │\n",
       "├───────────────────────────┼────────────────────────┼────────────────┼────────────────────────┤\n",
       "│ conv1d_5 (\u001b[38;5;33mConv1D\u001b[0m)         │ (\u001b[38;5;45mNone\u001b[0m, \u001b[38;5;34m200\u001b[0m, \u001b[38;5;34m128\u001b[0m)       │         \u001b[38;5;34m64,128\u001b[0m │ embeddings[\u001b[38;5;34m0\u001b[0m][\u001b[38;5;34m0\u001b[0m]       │\n",
       "├───────────────────────────┼────────────────────────┼────────────────┼────────────────────────┤\n",
       "│ global_max_pooling1d_3    │ (\u001b[38;5;45mNone\u001b[0m, \u001b[38;5;34m128\u001b[0m)            │              \u001b[38;5;34m0\u001b[0m │ conv1d_3[\u001b[38;5;34m0\u001b[0m][\u001b[38;5;34m0\u001b[0m]         │\n",
       "│ (\u001b[38;5;33mGlobalMaxPooling1D\u001b[0m)      │                        │                │                        │\n",
       "├───────────────────────────┼────────────────────────┼────────────────┼────────────────────────┤\n",
       "│ global_max_pooling1d_4    │ (\u001b[38;5;45mNone\u001b[0m, \u001b[38;5;34m128\u001b[0m)            │              \u001b[38;5;34m0\u001b[0m │ conv1d_4[\u001b[38;5;34m0\u001b[0m][\u001b[38;5;34m0\u001b[0m]         │\n",
       "│ (\u001b[38;5;33mGlobalMaxPooling1D\u001b[0m)      │                        │                │                        │\n",
       "├───────────────────────────┼────────────────────────┼────────────────┼────────────────────────┤\n",
       "│ global_max_pooling1d_5    │ (\u001b[38;5;45mNone\u001b[0m, \u001b[38;5;34m128\u001b[0m)            │              \u001b[38;5;34m0\u001b[0m │ conv1d_5[\u001b[38;5;34m0\u001b[0m][\u001b[38;5;34m0\u001b[0m]         │\n",
       "│ (\u001b[38;5;33mGlobalMaxPooling1D\u001b[0m)      │                        │                │                        │\n",
       "├───────────────────────────┼────────────────────────┼────────────────┼────────────────────────┤\n",
       "│ concatenate_1             │ (\u001b[38;5;45mNone\u001b[0m, \u001b[38;5;34m384\u001b[0m)            │              \u001b[38;5;34m0\u001b[0m │ global_max_pooling1d_… │\n",
       "│ (\u001b[38;5;33mConcatenate\u001b[0m)             │                        │                │ global_max_pooling1d_… │\n",
       "│                           │                        │                │ global_max_pooling1d_… │\n",
       "├───────────────────────────┼────────────────────────┼────────────────┼────────────────────────┤\n",
       "│ reshape_1 (\u001b[38;5;33mReshape\u001b[0m)       │ (\u001b[38;5;45mNone\u001b[0m, \u001b[38;5;34m3\u001b[0m, \u001b[38;5;34m128\u001b[0m)         │              \u001b[38;5;34m0\u001b[0m │ concatenate_1[\u001b[38;5;34m0\u001b[0m][\u001b[38;5;34m0\u001b[0m]    │\n",
       "├───────────────────────────┼────────────────────────┼────────────────┼────────────────────────┤\n",
       "│ bidirectional_2           │ (\u001b[38;5;45mNone\u001b[0m, \u001b[38;5;34m3\u001b[0m, \u001b[38;5;34m128\u001b[0m)         │         \u001b[38;5;34m98,816\u001b[0m │ reshape_1[\u001b[38;5;34m0\u001b[0m][\u001b[38;5;34m0\u001b[0m]        │\n",
       "│ (\u001b[38;5;33mBidirectional\u001b[0m)           │                        │                │                        │\n",
       "├───────────────────────────┼────────────────────────┼────────────────┼────────────────────────┤\n",
       "│ bidirectional_3           │ (\u001b[38;5;45mNone\u001b[0m, \u001b[38;5;34m64\u001b[0m)             │         \u001b[38;5;34m41,216\u001b[0m │ bidirectional_2[\u001b[38;5;34m0\u001b[0m][\u001b[38;5;34m0\u001b[0m]  │\n",
       "│ (\u001b[38;5;33mBidirectional\u001b[0m)           │                        │                │                        │\n",
       "├───────────────────────────┼────────────────────────┼────────────────┼────────────────────────┤\n",
       "│ dense_3 (\u001b[38;5;33mDense\u001b[0m)           │ (\u001b[38;5;45mNone\u001b[0m, \u001b[38;5;34m128\u001b[0m)            │          \u001b[38;5;34m8,320\u001b[0m │ bidirectional_3[\u001b[38;5;34m0\u001b[0m][\u001b[38;5;34m0\u001b[0m]  │\n",
       "├───────────────────────────┼────────────────────────┼────────────────┼────────────────────────┤\n",
       "│ batch_normalization_2     │ (\u001b[38;5;45mNone\u001b[0m, \u001b[38;5;34m128\u001b[0m)            │            \u001b[38;5;34m512\u001b[0m │ dense_3[\u001b[38;5;34m0\u001b[0m][\u001b[38;5;34m0\u001b[0m]          │\n",
       "│ (\u001b[38;5;33mBatchNormalization\u001b[0m)      │                        │                │                        │\n",
       "├───────────────────────────┼────────────────────────┼────────────────┼────────────────────────┤\n",
       "│ dropout_2 (\u001b[38;5;33mDropout\u001b[0m)       │ (\u001b[38;5;45mNone\u001b[0m, \u001b[38;5;34m128\u001b[0m)            │              \u001b[38;5;34m0\u001b[0m │ batch_normalization_2… │\n",
       "├───────────────────────────┼────────────────────────┼────────────────┼────────────────────────┤\n",
       "│ dense_4 (\u001b[38;5;33mDense\u001b[0m)           │ (\u001b[38;5;45mNone\u001b[0m, \u001b[38;5;34m64\u001b[0m)             │          \u001b[38;5;34m8,256\u001b[0m │ dropout_2[\u001b[38;5;34m0\u001b[0m][\u001b[38;5;34m0\u001b[0m]        │\n",
       "├───────────────────────────┼────────────────────────┼────────────────┼────────────────────────┤\n",
       "│ batch_normalization_3     │ (\u001b[38;5;45mNone\u001b[0m, \u001b[38;5;34m64\u001b[0m)             │            \u001b[38;5;34m256\u001b[0m │ dense_4[\u001b[38;5;34m0\u001b[0m][\u001b[38;5;34m0\u001b[0m]          │\n",
       "│ (\u001b[38;5;33mBatchNormalization\u001b[0m)      │                        │                │                        │\n",
       "├───────────────────────────┼────────────────────────┼────────────────┼────────────────────────┤\n",
       "│ dropout_3 (\u001b[38;5;33mDropout\u001b[0m)       │ (\u001b[38;5;45mNone\u001b[0m, \u001b[38;5;34m64\u001b[0m)             │              \u001b[38;5;34m0\u001b[0m │ batch_normalization_3… │\n",
       "├───────────────────────────┼────────────────────────┼────────────────┼────────────────────────┤\n",
       "│ dense_5 (\u001b[38;5;33mDense\u001b[0m)           │ (\u001b[38;5;45mNone\u001b[0m, \u001b[38;5;34m6\u001b[0m)              │            \u001b[38;5;34m390\u001b[0m │ dropout_3[\u001b[38;5;34m0\u001b[0m][\u001b[38;5;34m0\u001b[0m]        │\n",
       "└───────────────────────────┴────────────────────────┴────────────────┴────────────────────────┘\n"
      ]
     },
     "metadata": {},
     "output_type": "display_data"
    },
    {
     "data": {
      "text/html": [
       "<pre style=\"white-space:pre;overflow-x:auto;line-height:normal;font-family:Menlo,'DejaVu Sans Mono',consolas,'Courier New',monospace\"><span style=\"font-weight: bold\"> Total params: </span><span style=\"color: #00af00; text-decoration-color: #00af00\">30,849,350</span> (117.68 MB)\n",
       "</pre>\n"
      ],
      "text/plain": [
       "\u001b[1m Total params: \u001b[0m\u001b[38;5;34m30,849,350\u001b[0m (117.68 MB)\n"
      ]
     },
     "metadata": {},
     "output_type": "display_data"
    },
    {
     "data": {
      "text/html": [
       "<pre style=\"white-space:pre;overflow-x:auto;line-height:normal;font-family:Menlo,'DejaVu Sans Mono',consolas,'Courier New',monospace\"><span style=\"font-weight: bold\"> Trainable params: </span><span style=\"color: #00af00; text-decoration-color: #00af00\">30,848,966</span> (117.68 MB)\n",
       "</pre>\n"
      ],
      "text/plain": [
       "\u001b[1m Trainable params: \u001b[0m\u001b[38;5;34m30,848,966\u001b[0m (117.68 MB)\n"
      ]
     },
     "metadata": {},
     "output_type": "display_data"
    },
    {
     "data": {
      "text/html": [
       "<pre style=\"white-space:pre;overflow-x:auto;line-height:normal;font-family:Menlo,'DejaVu Sans Mono',consolas,'Courier New',monospace\"><span style=\"font-weight: bold\"> Non-trainable params: </span><span style=\"color: #00af00; text-decoration-color: #00af00\">384</span> (1.50 KB)\n",
       "</pre>\n"
      ],
      "text/plain": [
       "\u001b[1m Non-trainable params: \u001b[0m\u001b[38;5;34m384\u001b[0m (1.50 KB)\n"
      ]
     },
     "metadata": {},
     "output_type": "display_data"
    }
   ],
   "source": [
    "model = Model(sequence_input, preds)\n",
    "model.compile(loss = focal_loss(gamma=2., alpha=0.25),\n",
    "              optimizer = Adam(learning_rate=0.0001),\n",
    "              metrics = ['accuracy', AUC()])\n",
    "\n",
    "model.summary()"
   ]
  },
  {
   "cell_type": "code",
   "execution_count": null,
   "metadata": {
    "execution": {
     "iopub.execute_input": "2025-02-12T18:19:31.048381Z",
     "iopub.status.busy": "2025-02-12T18:19:31.048042Z",
     "iopub.status.idle": "2025-02-12T18:40:14.303882Z",
     "shell.execute_reply": "2025-02-12T18:40:14.303184Z",
     "shell.execute_reply.started": "2025-02-12T18:19:31.048354Z"
    },
    "trusted": true
   },
   "outputs": [
    {
     "name": "stdout",
     "output_type": "stream",
     "text": [
      "Epoch 1/10\n",
      "\u001b[1m3990/3990\u001b[0m \u001b[32m━━━━━━━━━━━━━━━━━━━━\u001b[0m\u001b[37m\u001b[0m \u001b[1m138s\u001b[0m 31ms/step - accuracy: 0.1714 - auc_1: 0.5218 - loss: 4.2037 - val_accuracy: 0.2565 - val_auc_1: 0.6682 - val_loss: 2.3089 - learning_rate: 1.0000e-04\n",
      "Epoch 2/10\n",
      "\u001b[1m3990/3990\u001b[0m \u001b[32m━━━━━━━━━━━━━━━━━━━━\u001b[0m\u001b[37m\u001b[0m \u001b[1m123s\u001b[0m 31ms/step - accuracy: 0.1811 - auc_1: 0.5797 - loss: 2.0826 - val_accuracy: 0.2760 - val_auc_1: 0.7499 - val_loss: 0.8533 - learning_rate: 1.0000e-04\n",
      "Epoch 3/10\n",
      "\u001b[1m3990/3990\u001b[0m \u001b[32m━━━━━━━━━━━━━━━━━━━━\u001b[0m\u001b[37m\u001b[0m \u001b[1m123s\u001b[0m 31ms/step - accuracy: 0.1997 - auc_1: 0.6479 - loss: 0.7531 - val_accuracy: 0.1646 - val_auc_1: 0.7876 - val_loss: 0.3467 - learning_rate: 1.0000e-04\n",
      "Epoch 4/10\n",
      "\u001b[1m3990/3990\u001b[0m \u001b[32m━━━━━━━━━━━━━━━━━━━━\u001b[0m\u001b[37m\u001b[0m \u001b[1m123s\u001b[0m 31ms/step - accuracy: 0.2294 - auc_1: 0.6842 - loss: 0.3588 - val_accuracy: 0.6569 - val_auc_1: 0.8449 - val_loss: 0.1808 - learning_rate: 1.0000e-04\n",
      "Epoch 5/10\n",
      "\u001b[1m3990/3990\u001b[0m \u001b[32m━━━━━━━━━━━━━━━━━━━━\u001b[0m\u001b[37m\u001b[0m \u001b[1m123s\u001b[0m 31ms/step - accuracy: 0.3921 - auc_1: 0.7619 - loss: 0.1553 - val_accuracy: 0.9914 - val_auc_1: 0.8887 - val_loss: 0.0725 - learning_rate: 1.0000e-04\n",
      "Epoch 6/10\n",
      "\u001b[1m3990/3990\u001b[0m \u001b[32m━━━━━━━━━━━━━━━━━━━━\u001b[0m\u001b[37m\u001b[0m \u001b[1m123s\u001b[0m 31ms/step - accuracy: 0.4891 - auc_1: 0.8352 - loss: 0.0589 - val_accuracy: 0.9754 - val_auc_1: 0.9430 - val_loss: 0.0340 - learning_rate: 1.0000e-04\n",
      "Epoch 7/10\n",
      "\u001b[1m3990/3990\u001b[0m \u001b[32m━━━━━━━━━━━━━━━━━━━━\u001b[0m\u001b[37m\u001b[0m \u001b[1m123s\u001b[0m 31ms/step - accuracy: 0.5571 - auc_1: 0.8950 - loss: 0.0281 - val_accuracy: 0.9935 - val_auc_1: 0.9442 - val_loss: 0.0187 - learning_rate: 1.0000e-04\n",
      "Epoch 8/10\n",
      "\u001b[1m3990/3990\u001b[0m \u001b[32m━━━━━━━━━━━━━━━━━━━━\u001b[0m\u001b[37m\u001b[0m \u001b[1m123s\u001b[0m 31ms/step - accuracy: 0.6911 - auc_1: 0.9150 - loss: 0.0200 - val_accuracy: 0.9939 - val_auc_1: 0.9599 - val_loss: 0.0142 - learning_rate: 1.0000e-04\n",
      "Epoch 9/10\n",
      "\u001b[1m3990/3990\u001b[0m \u001b[32m━━━━━━━━━━━━━━━━━━━━\u001b[0m\u001b[37m\u001b[0m \u001b[1m123s\u001b[0m 31ms/step - accuracy: 0.6924 - auc_1: 0.9329 - loss: 0.0188 - val_accuracy: 0.9939 - val_auc_1: 0.9557 - val_loss: 0.0168 - learning_rate: 1.0000e-04\n",
      "Epoch 10/10\n",
      "\u001b[1m3990/3990\u001b[0m \u001b[32m━━━━━━━━━━━━━━━━━━━━\u001b[0m\u001b[37m\u001b[0m \u001b[1m123s\u001b[0m 31ms/step - accuracy: 0.7209 - auc_1: 0.9361 - loss: 0.0172 - val_accuracy: 0.9850 - val_auc_1: 0.9588 - val_loss: 0.0171 - learning_rate: 1.0000e-04\n"
     ]
    }
   ],
   "source": [
    "history = model.fit(x_train, y_train, \n",
    "                    epochs = 10, \n",
    "                    batch_size = 32, \n",
    "                    validation_data = (x_val, y_val),\n",
    "                    sample_weight=sample_weights,\n",
    "                    callbacks= [\n",
    "                        EarlyStopping(monitor='val_loss', patience=3, restore_best_weights=True),\n",
    "                        ReduceLROnPlateau(monitor='val_loss', factor=0.1, patience=2)\n",
    "]\n",
    ")"
   ]
  },
  {
   "cell_type": "code",
   "execution_count": null,
   "metadata": {
    "execution": {
     "iopub.execute_input": "2025-02-12T18:40:45.641546Z",
     "iopub.status.busy": "2025-02-12T18:40:45.641236Z",
     "iopub.status.idle": "2025-02-12T18:41:10.039027Z",
     "shell.execute_reply": "2025-02-12T18:41:10.038247Z",
     "shell.execute_reply.started": "2025-02-12T18:40:45.641525Z"
    },
    "trusted": true
   },
   "outputs": [
    {
     "name": "stdout",
     "output_type": "stream",
     "text": [
      "\u001b[1m4787/4787\u001b[0m \u001b[32m━━━━━━━━━━━━━━━━━━━━\u001b[0m\u001b[37m\u001b[0m \u001b[1m14s\u001b[0m 3ms/step\n",
      "Exact Match Accuracy: 0.3769\n",
      "toxic Accuracy: 0.3853\n",
      "severe_toxic Accuracy: 0.4150\n",
      "obscene Accuracy: 0.3987\n",
      "threat Accuracy: 0.4163\n",
      "insult Accuracy: 0.3984\n",
      "identity_hate Accuracy: 0.4130\n",
      "\n",
      "Confusion Matrices:\n",
      "\n",
      "toxic:\n",
      "True Negatives: 57368\n",
      "False Positives: 520\n",
      "False Negatives: 4450\n",
      "True Positives: 1640\n",
      "\n",
      "severe_toxic:\n",
      "True Negatives: 63500\n",
      "False Positives: 111\n",
      "False Negatives: 302\n",
      "True Positives: 65\n",
      "\n",
      "obscene:\n",
      "True Negatives: 60009\n",
      "False Positives: 278\n",
      "False Negatives: 2640\n",
      "True Positives: 1051\n",
      "\n",
      "threat:\n",
      "True Negatives: 63761\n",
      "False Positives: 6\n",
      "False Negatives: 211\n",
      "True Positives: 0\n",
      "\n",
      "insult:\n",
      "True Negatives: 60214\n",
      "False Positives: 337\n",
      "False Negatives: 2626\n",
      "True Positives: 801\n",
      "\n",
      "identity_hate:\n",
      "True Negatives: 63243\n",
      "False Positives: 23\n",
      "False Negatives: 696\n",
      "True Positives: 16\n"
     ]
    }
   ],
   "source": [
    "#predicting on test data\n",
    "test = pd.read_csv(\"/kaggle/input/jigsaw-toxic-comment-classification-challenge/test.csv\")\n",
    "test_labels = pd.read_csv(\"/kaggle/input/jigsaw-toxic-comment-classification-challenge/test_labels.csv\")\n",
    "test = test.merge(test_labels, on=\"id\")\n",
    "\n",
    "test_sequences = tokenizer.texts_to_sequences(test[\"comment_text\"].astype(str))\n",
    "x_test = pad_sequences(test_sequences, maxlen=MAX_SEQUENCE_LENGTH, padding=\"post\")\n",
    "y_test = test[label_cols].values\n",
    "\n",
    "y_test_pred = model.predict(x_test)\n",
    "y_test_pred_binary = (y_test_pred > 0.5).astype(int)\n",
    "\n",
    "test_accuracy = np.mean((y_test_pred_binary == y_test).all(axis=1))\n",
    "print(f\"Exact Match Accuracy: {test_accuracy:.4f}\")\n",
    "\n",
    "per_class_accuracy = (y_test_pred_binary == y_test).mean(axis=0)\n",
    "for label, acc in zip(label_cols, per_class_accuracy):\n",
    "    print(f\"{label} Accuracy: {acc:.4f}\")\n",
    "\n",
    "print(\"\\nConfusion Matrices:\")\n",
    "for i, label in enumerate(label_cols):\n",
    "    tn = np.sum((y_test[:, i] == 0) & (y_test_pred_binary[:, i] == 0))\n",
    "    fp = np.sum((y_test[:, i] == 0) & (y_test_pred_binary[:, i] == 1))\n",
    "    fn = np.sum((y_test[:, i] == 1) & (y_test_pred_binary[:, i] == 0))\n",
    "    tp = np.sum((y_test[:, i] == 1) & (y_test_pred_binary[:, i] == 1))\n",
    "    \n",
    "    print(f\"\\n{label}:\")\n",
    "    print(f\"True Negatives: {tn}\")\n",
    "    print(f\"False Positives: {fp}\")\n",
    "    print(f\"False Negatives: {fn}\")\n",
    "    print(f\"True Positives: {tp}\")"
   ]
  },
  {
   "cell_type": "code",
   "execution_count": null,
   "metadata": {
    "execution": {
     "iopub.execute_input": "2025-02-12T18:42:07.799982Z",
     "iopub.status.busy": "2025-02-12T18:42:07.799676Z",
     "iopub.status.idle": "2025-02-12T18:42:08.040666Z",
     "shell.execute_reply": "2025-02-12T18:42:08.039867Z",
     "shell.execute_reply.started": "2025-02-12T18:42:07.799958Z"
    },
    "trusted": true
   },
   "outputs": [
    {
     "data": {
      "image/png": "[encoded data removed]",
      "text/plain": [
       "<Figure size 1000x600 with 1 Axes>"
      ]
     },
     "metadata": {},
     "output_type": "display_data"
    }
   ],
   "source": [
    "#plot training and validation loss\n",
    "loss = history.history['loss']\n",
    "val_loss = history.history['val_loss']\n",
    "\n",
    "epochs = range(1, len(loss)+1)\n",
    "\n",
    "plt.figure(figsize=(10,6))\n",
    "sns.lineplot(x=epochs, y=loss, label = 'Training_Loss')\n",
    "sns.lineplot(x=epochs, y=val_loss, label = 'Validation_Loss')\n",
    "plt.title('Training and Validation Loss')\n",
    "plt.xlabel('Epochs')\n",
    "plt.ylabel('Loss')\n",
    "plt.legend()\n",
    "plt.show()"
   ]
  },
  {
   "cell_type": "code",
   "execution_count": null,
   "metadata": {
    "execution": {
     "iopub.execute_input": "2025-02-12T18:42:10.291317Z",
     "iopub.status.busy": "2025-02-12T18:42:10.290925Z",
     "iopub.status.idle": "2025-02-12T18:42:10.513581Z",
     "shell.execute_reply": "2025-02-12T18:42:10.512882Z",
     "shell.execute_reply.started": "2025-02-12T18:42:10.291288Z"
    },
    "trusted": true
   },
   "outputs": [
    {
     "data": {
      "image/png": "[encoded data removed]",
      "text/plain": [
       "<Figure size 1000x600 with 1 Axes>"
      ]
     },
     "metadata": {},
     "output_type": "display_data"
    }
   ],
   "source": [
    "##plot training and validation accuracy\n",
    "accuracy = history.history['accuracy']\n",
    "val_accuracy = history.history['val_accuracy']\n",
    "\n",
    "epochs = range(1, len(accuracy)+1)\n",
    "\n",
    "plt.figure(figsize=(10,6))\n",
    "sns.lineplot(x=epochs, y=accuracy, label = 'Training_Accuracy')\n",
    "sns.lineplot(x=epochs, y=val_accuracy, label = 'Validation_Accuracy')\n",
    "plt.title('Training and Validation Accuracy')\n",
    "plt.xlabel('Epochs')\n",
    "plt.ylabel('accuracy')\n",
    "plt.legend()\n",
    "plt.show()"
   ]
  },
  {
   "cell_type": "code",
   "execution_count": null,
   "metadata": {
    "execution": {
     "iopub.execute_input": "2025-02-12T19:18:51.167798Z",
     "iopub.status.busy": "2025-02-12T19:18:51.167487Z",
     "iopub.status.idle": "2025-02-12T19:34:28.086637Z",
     "shell.execute_reply": "2025-02-12T19:34:28.085911Z",
     "shell.execute_reply.started": "2025-02-12T19:18:51.167774Z"
    },
    "trusted": true
   },
   "outputs": [
    {
     "name": "stdout",
     "output_type": "stream",
     "text": [
      "\n",
      "Enter a comment (or type 'exit' to quit):  I think its crap that the link to roggenbier is to this article. Somebody that knows how to do things should change it.\n"
     ]
    },
    {
     "name": "stdout",
     "output_type": "stream",
     "text": [
      "\u001b[1m1/1\u001b[0m \u001b[32m━━━━━━━━━━━━━━━━━━━━\u001b[0m\u001b[37m\u001b[0m \u001b[1m0s\u001b[0m 20ms/step\n",
      "Prediction Toxicity Levels: {'toxic': 0.18034876883029938, 'severe_toxic': 0.10284800082445145, 'obscene': 0.1341886818408966, 'threat': 0.10048811882734299, 'insult': 0.14372356235980988, 'identity_hate': 0.10685799270868301, 'Non-toxic': 0.8719241470098495}\n"
     ]
    },
    {
     "name": "stdout",
     "output_type": "stream",
     "text": [
      "\n",
      "Enter a comment (or type 'exit' to quit):  Asshole, your dirty MF people tries to steal our glory and heavy persian (tajik) history by claiming us Awghans (mother/donkeyfuckers)\n"
     ]
    },
    {
     "name": "stdout",
     "output_type": "stream",
     "text": [
      "\u001b[1m1/1\u001b[0m \u001b[32m━━━━━━━━━━━━━━━━━━━━\u001b[0m\u001b[37m\u001b[0m \u001b[1m0s\u001b[0m 19ms/step\n",
      "Prediction Toxicity Levels: {'toxic': 0.5227188467979431, 'severe_toxic': 0.2549087703227997, 'obscene': 0.4330967664718628, 'threat': 0.20414608716964722, 'insult': 0.41369298100471497, 'identity_hate': 0.24840767681598663}\n"
     ]
    },
    {
     "name": "stdout",
     "output_type": "stream",
     "text": [
      "\n",
      "Enter a comment (or type 'exit' to quit):  You are a gay homo. I hope you choke on your penis and die. I am sending a big bleck guy to jizz in your face.\n"
     ]
    },
    {
     "name": "stdout",
     "output_type": "stream",
     "text": [
      "\u001b[1m1/1\u001b[0m \u001b[32m━━━━━━━━━━━━━━━━━━━━\u001b[0m\u001b[37m\u001b[0m \u001b[1m0s\u001b[0m 20ms/step\n",
      "Prediction Toxicity Levels: {'toxic': 0.6618187427520752, 'severe_toxic': 0.3413165807723999, 'obscene': 0.5731756687164307, 'threat': 0.2523827850818634, 'insult': 0.5393520593643188, 'identity_hate': 0.31715548038482666}\n"
     ]
    },
    {
     "name": "stdout",
     "output_type": "stream",
     "text": [
      "\n",
      "Enter a comment (or type 'exit' to quit):  and i'm going to keep posting the stuff u deleted until this fucking site closes down have fun u stupid ass bitch don't ever delete anything fuckin hore like i said before go to hell\n"
     ]
    },
    {
     "name": "stdout",
     "output_type": "stream",
     "text": [
      "\u001b[1m1/1\u001b[0m \u001b[32m━━━━━━━━━━━━━━━━━━━━\u001b[0m\u001b[37m\u001b[0m \u001b[1m0s\u001b[0m 19ms/step\n",
      "Prediction Toxicity Levels: {'toxic': 0.7454513907432556, 'severe_toxic': 0.4201875329017639, 'obscene': 0.6775214672088623, 'threat': 0.30028754472732544, 'insult': 0.6343549489974976, 'identity_hate': 0.3750919699668884}\n"
     ]
    },
    {
     "name": "stdout",
     "output_type": "stream",
     "text": [
      "\n",
      "Enter a comment (or type 'exit' to quit):  exit\n"
     ]
    },
    {
     "name": "stdout",
     "output_type": "stream",
     "text": [
      "Exiting...\n"
     ]
    }
   ],
   "source": [
    "#function to predict toxicity levels for a given comment\n",
    "def predict_toxicity(comment):\n",
    "    comment = clean_text(comment)\n",
    "    sequence = tokenizer.texts_to_sequences([comment])\n",
    "    padded_sequence = pad_sequences(sequence, maxlen=MAX_SEQUENCE_LENGTH, padding='post')\n",
    "\n",
    "    predictions = model.predict(padded_sequence)[0]\n",
    "    threshold = 0.2\n",
    "    detected_labels = [label_cols[i] for i, score in enumerate(predictions) if score>threshold]\n",
    "\n",
    "    toxic_scores = dict(zip(label_cols, predictions.tolist()))\n",
    "\n",
    "    if not detected_labels:\n",
    "        average_toxic_score = np.mean(predictions)\n",
    "        non_toxic_score = 1-average_toxic_score\n",
    "        toxic_scores['Non-toxic'] = non_toxic_score\n",
    "\n",
    "    return toxic_scores\n",
    "    \n",
    "while True:\n",
    "    user_input = input(\"\\nEnter a comment (or type 'exit' to quit): \")\n",
    "    if user_input.lower() == \"exit\":\n",
    "        print(\"Exiting...\")\n",
    "        break\n",
    "\n",
    "    prediction_result = predict_toxicity(user_input)\n",
    "    print(\"Prediction Toxicity Levels:\", prediction_result)"
   ]
  },
  {
   "cell_type": "code",
   "execution_count": null,
   "metadata": {
    "trusted": true
   },
   "outputs": [],
   "source": []
  }
 ],
 "metadata": {
  "kaggle": {
   "accelerator": "nvidiaTeslaT4",
   "dataSources": [
    {
     "datasetId": 715814,
     "sourceId": 1246668,
     "sourceType": "datasetVersion"
    },
    {
     "datasetId": 1709138,
     "sourceId": 2798066,
     "sourceType": "datasetVersion"
    }
   ],
   "dockerImageVersionId": 30839,
   "isGpuEnabled": true,
   "isInternetEnabled": true,
   "language": "python",
   "sourceType": "notebook"
  },
  "kernelspec": {
   "display_name": "Python 3",
   "language": "python",
   "name": "python3"
  },
  "language_info": {
   "codemirror_mode": {
    "name": "ipython",
    "version": 3
   },
   "file_extension": ".py",
   "mimetype": "text/x-python",
   "name": "python",
   "nbconvert_exporter": "python",
   "pygments_lexer": "ipython3",
   "version": "3.10.12"
  }
 },
 "nbformat": 4,
 "nbformat_minor": 4
}
